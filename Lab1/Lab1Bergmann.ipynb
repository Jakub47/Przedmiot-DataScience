{
 "cells": [
  {
   "cell_type": "markdown",
   "metadata": {},
   "source": [
    "### utwórz tablicę zawierającą 10 zer"
   ]
  },
  {
   "cell_type": "code",
   "execution_count": 2,
   "metadata": {
    "scrolled": false
   },
   "outputs": [
    {
     "name": "stdout",
     "output_type": "stream",
     "text": [
      "[0. 0. 0. 0. 0. 0. 0. 0. 0. 0.]\n"
     ]
    }
   ],
   "source": [
    "import numpy as np\n",
    "a = np.zeros(10)\n",
    "print(a)\n",
    "# yos"
   ]
  },
  {
   "cell_type": "markdown",
   "metadata": {},
   "source": [
    "### utwórz tablicę zawierającą 10 piątek,"
   ]
  },
  {
   "cell_type": "code",
   "execution_count": 28,
   "metadata": {},
   "outputs": [
    {
     "data": {
      "text/plain": [
       "array([5., 5., 5., 5., 5., 5., 5., 5., 5., 5.])"
      ]
     },
     "execution_count": 28,
     "metadata": {},
     "output_type": "execute_result"
    }
   ],
   "source": [
    "np.ones(10) * 5"
   ]
  },
  {
   "cell_type": "markdown",
   "metadata": {},
   "source": [
    "#### utwórz tablicę zawierającą liczby od 10 do 50,"
   ]
  },
  {
   "cell_type": "code",
   "execution_count": 5,
   "metadata": {},
   "outputs": [
    {
     "data": {
      "text/plain": [
       "array([10, 11, 12, 13, 14, 15, 16, 17, 18, 19, 20, 21, 22, 23, 24, 25, 26,\n",
       "       27, 28, 29, 30, 31, 32, 33, 34, 35, 36, 37, 38, 39, 40, 41, 42, 43,\n",
       "       44, 45, 46, 47, 48, 49, 50])"
      ]
     },
     "execution_count": 5,
     "metadata": {},
     "output_type": "execute_result"
    }
   ],
   "source": [
    " np.arange(10,51)"
   ]
  },
  {
   "cell_type": "markdown",
   "metadata": {},
   "source": [
    "##### utwórz macierz (tablica wielowymiarowa) o wymiarach 3x3 zawierającą liczby od 0 do 8,"
   ]
  },
  {
   "cell_type": "code",
   "execution_count": 126,
   "metadata": {},
   "outputs": [
    {
     "name": "stdout",
     "output_type": "stream",
     "text": [
      "[[8 2 4]\n",
      " [3 0 5]\n",
      " [8 6 5]]\n"
     ]
    }
   ],
   "source": [
    "#x1 = np.arange(9).reshape((3, 3))\n",
    "#x2 = np.arange(9).reshape((3, 3))\n",
    "#x3 = np.arange(9).reshape((3, 3))\n",
    "#x4 = np.stack((x1, x2,x3))\n",
    "print(np.random.randint(9, size=(3, 3)))"
   ]
  },
  {
   "cell_type": "markdown",
   "metadata": {},
   "source": [
    "### utwórz macierz jednostkową o wymiarach 3x3,"
   ]
  },
  {
   "cell_type": "code",
   "execution_count": 29,
   "metadata": {},
   "outputs": [
    {
     "data": {
      "text/plain": [
       "array([[1., 0., 0.],\n",
       "       [0., 1., 0.],\n",
       "       [0., 0., 1.]])"
      ]
     },
     "execution_count": 29,
     "metadata": {},
     "output_type": "execute_result"
    }
   ],
   "source": [
    "np.eye(3)"
   ]
  },
  {
   "cell_type": "markdown",
   "metadata": {},
   "source": [
    "#### utwórz macierz o wymiarach 5x5 zawierającą liczby z dystrybucji normalnej (Gaussa),"
   ]
  },
  {
   "cell_type": "code",
   "execution_count": 130,
   "metadata": {},
   "outputs": [
    {
     "name": "stdout",
     "output_type": "stream",
     "text": [
      "[[[-0.13330531 -1.76544711  0.20125983 -0.86846679  0.48670862]]\n",
      "\n",
      " [[ 0.33091679 -0.65852848 -0.68109516 -0.98575827 -1.31991971]]\n",
      "\n",
      " [[-1.2272983   1.31383782 -1.46403726 -0.19636596  0.45767469]]\n",
      "\n",
      " [[-1.06956063 -0.3149163   0.76233998  0.2582998  -1.06426882]]\n",
      "\n",
      " [[ 1.19965895 -0.48203234 -0.32203971 -0.81861464 -0.70644044]]]\n"
     ]
    }
   ],
   "source": [
    "s = np.random.normal(0, 1, (5, 1, 5)) \n",
    "print(s)"
   ]
  },
  {
   "cell_type": "markdown",
   "metadata": {},
   "source": [
    "#### utwórz macierz o wymiarach 10x10 zawierającą liczby od 0,01 do 1 z krokiem 0,01,"
   ]
  },
  {
   "cell_type": "code",
   "execution_count": 51,
   "metadata": {},
   "outputs": [
    {
     "name": "stdout",
     "output_type": "stream",
     "text": [
      "[0.01 0.02 0.03 0.04 0.05 0.06 0.07 0.08 0.09 0.1  0.11 0.12 0.13 0.14\n",
      " 0.15 0.16 0.17 0.18 0.19 0.2  0.21 0.22 0.23 0.24 0.25 0.26 0.27 0.28\n",
      " 0.29 0.3  0.31 0.32 0.33 0.34 0.35 0.36 0.37 0.38 0.39 0.4  0.41 0.42\n",
      " 0.43 0.44 0.45 0.46 0.47 0.48 0.49 0.5  0.51 0.52 0.53 0.54 0.55 0.56\n",
      " 0.57 0.58 0.59 0.6  0.61 0.62 0.63 0.64 0.65 0.66 0.67 0.68 0.69 0.7\n",
      " 0.71 0.72 0.73 0.74 0.75 0.76 0.77 0.78 0.79 0.8  0.81 0.82 0.83 0.84\n",
      " 0.85 0.86 0.87 0.88 0.89 0.9  0.91 0.92 0.93 0.94 0.95 0.96 0.97 0.98\n",
      " 0.99 1.  ]\n"
     ]
    }
   ],
   "source": [
    "from numpy import ogrid\n",
    "s =  ogrid[0.01:1.01:0.01]\n",
    "print(s)"
   ]
  },
  {
   "cell_type": "markdown",
   "metadata": {},
   "source": [
    "#### utwórz tablicę zawierającą 20 liniowo rozłożonych liczb między 0 a 1 (włącznie z 0 i 1),"
   ]
  },
  {
   "cell_type": "code",
   "execution_count": 54,
   "metadata": {},
   "outputs": [
    {
     "data": {
      "text/plain": [
       "array([0.        , 0.05263158, 0.10526316, 0.15789474, 0.21052632,\n",
       "       0.26315789, 0.31578947, 0.36842105, 0.42105263, 0.47368421,\n",
       "       0.52631579, 0.57894737, 0.63157895, 0.68421053, 0.73684211,\n",
       "       0.78947368, 0.84210526, 0.89473684, 0.94736842, 1.        ])"
      ]
     },
     "execution_count": 54,
     "metadata": {},
     "output_type": "execute_result"
    }
   ],
   "source": [
    "np.linspace(0, 1, 20)"
   ]
  },
  {
   "cell_type": "markdown",
   "metadata": {},
   "source": [
    "### utwórz tablicę zawierającą losowe liczby z przedziału (1, 25), następnie zamień ją na macierz o wymiarach 5 x 5 z tymi samymi liczbami:\n",
    "oblicz sumę wszystkich liczb w ww. macierzy,\n",
    "oblicz średnią wszystkich liczb w ww. macierzy,\n",
    "oblicz standardową dewiację dla liczb w ww. macierzy,\n",
    "oblicz sumę każdej kolumny ww. macierzy i zapisz ją do tablicy."
   ]
  },
  {
   "cell_type": "code",
   "execution_count": 80,
   "metadata": {
    "scrolled": true
   },
   "outputs": [
    {
     "name": "stdout",
     "output_type": "stream",
     "text": [
      "sum of array is  325.0\n",
      "average of array is  13.0\n",
      "Deviation of array is  7.211102550927978\n",
      "sum of column is [55. 60. 65. 70. 75.]\n",
      "[[ 1.  2.  3.  4.  5.]\n",
      " [ 6.  7.  8.  9. 10.]\n",
      " [11. 12. 13. 14. 15.]\n",
      " [16. 17. 18. 19. 20.]\n",
      " [21. 22. 23. 24. 25.]]\n"
     ]
    }
   ],
   "source": [
    "arrayTo25 = np.arange(1,26,1) \n",
    "matrixWithValues = np.zeros((5,5))\n",
    "k = 0\n",
    "\n",
    "for x in range(5):\n",
    "    for y in range(5):\n",
    "        c = arrayTo25[k]\n",
    "        matrixWithValues[x][y]+= c\n",
    "        k = k + 1\n",
    "        \n",
    "print(\"sum of array is \" , matrixWithValues.sum())\n",
    "print(\"average of array is \" , matrixWithValues.mean())\n",
    "print(\"Deviation of array is \" ,  np.std(matrixWithValues))\n",
    "print(\"sum of column is\" , np.sum(matrixWithValues,axis=0))"
   ]
  },
  {
   "cell_type": "markdown",
   "metadata": {},
   "source": [
    "### utwórz macierz o wymiarach 5x5 zawierającą losowe liczby z przedziału (0, 100) i:\n",
    "oblicz medianę tych liczb,\n",
    "znajdź najmniejszą liczbę tej macierzy,\n",
    "znajdź największą liczbę tej macierzy."
   ]
  },
  {
   "cell_type": "code",
   "execution_count": 89,
   "metadata": {},
   "outputs": [
    {
     "name": "stdout",
     "output_type": "stream",
     "text": [
      "median of random matrix is  0.615707546409921\n",
      "min value of random matrix is  0.04597971019058911\n",
      "max value of random matrix is 0.9925735206574583\n",
      "[[0.91315618 0.31116315 0.06441269 0.80952449 0.04597971]\n",
      " [0.97794326 0.98532435 0.28975813 0.25317663 0.99257352]\n",
      " [0.85977375 0.75309704 0.8109682  0.52997152 0.45672861]\n",
      " [0.62207058 0.28613635 0.47207495 0.51168822 0.6288689 ]\n",
      " [0.177885   0.89491371 0.88382198 0.91977562 0.94190212]]\n"
     ]
    }
   ],
   "source": [
    "randomMatrix = np.random.random((5,5)) \n",
    "print(\"median of random matrix is \" , randomMatrix.mean()) #As you will see in the documentation for ndarray.mean, ndarray.mean and np.mean are \"equivalent functions,\" so this is just a matter of semantics.\n",
    "print(\"min value of random matrix is \" , randomMatrix.min())\n",
    "print(\"max value of random matrix is\" , randomMatrix.max())\n",
    "print(randomMatrix)"
   ]
  },
  {
   "cell_type": "markdown",
   "metadata": {},
   "source": [
    "### utwórz macierz o wymiarach różnych od siebie i większych od 1, zawierającą losowe liczby z przedziału (0, 100) i dokonaj jej transpozycji,"
   ]
  },
  {
   "cell_type": "code",
   "execution_count": 99,
   "metadata": {},
   "outputs": [
    {
     "data": {
      "text/plain": [
       "array([[18, 16],\n",
       "       [ 5, 51],\n",
       "       [25, 15]])"
      ]
     },
     "execution_count": 99,
     "metadata": {},
     "output_type": "execute_result"
    }
   ],
   "source": [
    "np.transpose(np.random.randint(100, size=(2, 3)))"
   ]
  },
  {
   "cell_type": "markdown",
   "metadata": {},
   "source": [
    "### utwórz dwie macierze o odpowiednich wymiarach (doczytać), większych od 2 i dodaj je do siebie,"
   ]
  },
  {
   "cell_type": "code",
   "execution_count": 107,
   "metadata": {},
   "outputs": [
    {
     "name": "stdout",
     "output_type": "stream",
     "text": [
      "4\n",
      "before\n",
      "[[1 0 1 2]\n",
      " [0 0 2 0]\n",
      " [1 2 3 0]]\n",
      "[[0 0 0 3]\n",
      " [2 1 2 2]\n",
      " [0 1 2 1]]\n",
      "after adding\n",
      "[[1 0 1 5]\n",
      " [2 1 4 2]\n",
      " [1 3 5 1]]\n"
     ]
    }
   ],
   "source": [
    "a = input()\n",
    "m1 = np.random.randint(a, size=(3, 4))\n",
    "m2 = np.random.randint(a, size=(3, 4))\n",
    "print(\"before\")\n",
    "print(m1)\n",
    "print(m2)\n",
    "print(\"after adding\")\n",
    "print(m1 + m2)"
   ]
  },
  {
   "cell_type": "markdown",
   "metadata": {},
   "source": [
    "#### utwórz dwie macierze o odpowiednich wymiarach (doczytać) różnych od siebie i większych od 2, a następnie pomnóż je przez siebie za pomocą dwóch różnych funkcji (np. ‘matmul’ i ‘multiply’),"
   ]
  },
  {
   "cell_type": "code",
   "execution_count": 116,
   "metadata": {},
   "outputs": [
    {
     "name": "stdout",
     "output_type": "stream",
     "text": [
      "4\n",
      "before\n",
      "[[2 1 0 3]\n",
      " [3 2 3 3]\n",
      " [0 2 1 0]]\n",
      "[[3 1 0 3]\n",
      " [3 2 2 3]\n",
      " [2 0 1 2]]\n",
      "after multiply with matmul\n",
      "[[3 3 2]\n",
      " [1 2 0]\n",
      " [0 2 1]\n",
      " [3 3 2]]\n",
      "[[16 17 10]\n",
      " [20 28 15]\n",
      " [ 2  6  1]]\n",
      "after multiply with multiply\n",
      "[[6 1 0 9]\n",
      " [9 4 6 9]\n",
      " [0 0 1 0]]\n"
     ]
    }
   ],
   "source": [
    "a = input()\n",
    "m1 = np.random.randint(a, size=(3, 4))\n",
    "m2 = np.random.randint(a, size=(3, 4))\n",
    "\n",
    "print(\"before\")\n",
    "print(m1)\n",
    "print(m2)\n",
    "print(\"after multiply with matmul\")\n",
    "print(np.transpose(m2))\n",
    "print(np.matmul(m1,np.transpose(m2)))\n",
    "print(\"after multiply with multiply\")\n",
    "print(np.multiply(m1,m2))"
   ]
  },
  {
   "cell_type": "markdown",
   "metadata": {},
   "source": [
    "tf.multiply(X, Y) does element-wise multiplication so that\n",
    "\n",
    "[[1 2]    [[1 3]      [[1 6]\n",
    " [3 4]] .  [2 1]]  =   [6 4]]\n",
    "wheras tf.matmul does matrix multiplication so that\n",
    "\n",
    "[[1 0]    [[1 3]      [[1 3]\n",
    " [0 1]] .  [2 1]]  =   [2 1]]"
   ]
  }
 ],
 "metadata": {
  "kernelspec": {
   "display_name": "Python 3",
   "language": "python",
   "name": "python3"
  },
  "language_info": {
   "codemirror_mode": {
    "name": "ipython",
    "version": 3
   },
   "file_extension": ".py",
   "mimetype": "text/x-python",
   "name": "python",
   "nbconvert_exporter": "python",
   "pygments_lexer": "ipython3",
   "version": "3.7.3"
  }
 },
 "nbformat": 4,
 "nbformat_minor": 2
}
