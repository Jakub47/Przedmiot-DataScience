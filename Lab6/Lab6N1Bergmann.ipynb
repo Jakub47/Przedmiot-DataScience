{
 "cells": [
  {
   "cell_type": "markdown",
   "metadata": {},
   "source": [
    "# 1.1 Struktura zbioru danych"
   ]
  },
  {
   "cell_type": "code",
   "execution_count": null,
   "metadata": {},
   "outputs": [],
   "source": [
    "import pandas as pd\n",
    "#Załaduj plik iris.data i przypisz go do Data Frame następnie go wyświetl\n",
    "url = 'https://archive.ics.uci.edu/ml/machine-learning-databases/iris/iris.data'\n",
    "df = pd.read_csv(url, header=None)\n",
    "print(\"----------------------------------------------------------------------------------------------------------------\")\n",
    "print(\"df is : {}\".format(df)) #Wyświetl pojedynczy wzorzec.\n",
    "print(\"----------------------------------------------------------------------------------------------------------------\")\n",
    "print(\"df.loc[0] is : {}\".format(df.loc[0]))\n",
    "print(\"----------------------------------------------------------------------------------------------------------------\")"
   ]
  },
  {
   "cell_type": "code",
   "execution_count": null,
   "metadata": {},
   "outputs": [],
   "source": [
    "data = df.values\n",
    "\n",
    "#przestrzeń cech — zbiór wszystkich wektorów cech obiektów znajdujących się w zbiorze\n",
    "X = data[:,:-1]\n",
    "print(\"X is : {}\".format(X))\n",
    "print(\"----------------------------------------------------------------------------------------------------------------\")\n",
    "print(\"X.shape is : {}\".format(X.shape))\n",
    "print(\"----------------------------------------------------------------------------------------------------------------\")"
   ]
  },
  {
   "cell_type": "code",
   "execution_count": null,
   "metadata": {},
   "outputs": [],
   "source": [
    "#zbiór etykiet — zawierający etykiety dla obiektów znajdujących się w zbiorze \n",
    "y = data[:,-1]\n",
    "print(\"y is : {}\".format(y))\n",
    "print(\"----------------------------------------------------------------------------------------------------------------\")\n",
    "print(\"y shape is : {}\".format(y.shape))\n",
    "print(\"----------------------------------------------------------------------------------------------------------------\")"
   ]
  },
  {
   "cell_type": "markdown",
   "metadata": {},
   "source": [
    "# 1.2 Podział zbioru danych na uczący i testowy"
   ]
  },
  {
   "cell_type": "code",
   "execution_count": null,
   "metadata": {},
   "outputs": [],
   "source": [
    "# przydatne nam metody podziału\n",
    "from sklearn import model_selection\n",
    "\n",
    "#losowy podział zbioru na dwie części z zachowaniem  proporcji pomiędzy nimi.\n",
    "#test_size  - proporcję pomiędzy podziałami.\n",
    "#random_state - zapewnienie powtarzalności podziału \n",
    "splits = model_selection.train_test_split(X, y, test_size=.333, random_state=0)\n",
    "X_train, X_test, y_train, y_test = splits\n",
    "print (X_train.shape, X_test.shape, y_train.shape, y_test.shape)"
   ]
  },
  {
   "cell_type": "code",
   "execution_count": null,
   "metadata": {},
   "outputs": [],
   "source": [
    "#W podejściu krzyżowym dzielimy losowo zbiór danych na k możliwie równych sobie podzbiorów. \n",
    "#Uzyskujemy dzięki temu k par, w których każdy z podzbiorów raz występuje jako zbiór uczący\n",
    "#a pozostała, połączona część zbioru jest wykorzystywana jako zbiór testowy.\n",
    "k = 10\n",
    "cv = model_selection.StratifiedKFold(n_splits=k)\n",
    "\n",
    "fold = 0\n",
    "for train, test in cv.split(X_train, y_train):\n",
    "    print (\"Fold %i (%i w TS, %i w VS)\" % (fold, len(train), len(test)))\n",
    "    print (train)\n",
    "    fold += 1"
   ]
  },
  {
   "cell_type": "markdown",
   "metadata": {},
   "source": [
    "# 1.3 Proces uczenia i predykcja\n",
    "### W problemie klasyfikacji, naszym zadaniem jest stworzenie algorytmu (programu), który na podstawie znanych sobie, opisanych wzorców, będzie w stanie efektywnie rozpoznawać wzorce nieopisane i dotąd sobie nieznane."
   ]
  },
  {
   "cell_type": "code",
   "execution_count": null,
   "metadata": {},
   "outputs": [],
   "source": [
    "#algorytm k najbliższych sąsiadów\n",
    "from sklearn import neighbors\n",
    "clf = neighbors.KNeighborsClassifier() #konkretny klasyfikator\n",
    "clf.fit(X_train, y_train) #Wytrenuj klasyfikator korzystając z zbioru danych\n",
    "score = clf.score(X_test, y_test) #Określ jakość klasyfikatora\n",
    "print(score)"
   ]
  },
  {
   "cell_type": "code",
   "execution_count": null,
   "metadata": {},
   "outputs": [],
   "source": [
    "#Wylicz wekotra wsparcia(Określa on prawdopodobieństwo przynależności obiektu do każdej z możliwych klas i zawsze sumuje się do jedynki)\n",
    "support_vector = clf.predict_proba(X_test)\n",
    "print(support_vector)"
   ]
  },
  {
   "cell_type": "code",
   "execution_count": null,
   "metadata": {},
   "outputs": [],
   "source": [
    "import numpy as np\n",
    "\n",
    "#Wynik klasyfikacji (przypisanie wzorca do klasy) nazywamy predykcją. Możemy ją uzyskać wyliczając indeks najwyższej wartości w wektorze wsparcia \n",
    "prediction = np.argmax(support_vector,axis = 1)\n",
    "print(prediction)"
   ]
  },
  {
   "cell_type": "code",
   "execution_count": null,
   "metadata": {},
   "outputs": [],
   "source": [
    "#Posłuż się atrybutem classes_ \"przetłumaczenia\" indeksów klas predykcji na odpowiadające im łańcuchy znakowe\n",
    "prediction = clf.classes_[prediction]\n",
    "print(prediction)"
   ]
  },
  {
   "cell_type": "markdown",
   "metadata": {},
   "source": [
    "# 1.4 Miary oceny jakości klasyfikacji"
   ]
  },
  {
   "cell_type": "code",
   "execution_count": 15,
   "metadata": {},
   "outputs": [
    {
     "name": "stdout",
     "output_type": "stream",
     "text": [
      "[[16  0  0]\n",
      " [ 0 18  1]\n",
      " [ 0  0 15]]\n"
     ]
    }
   ],
   "source": [
    "#Narzędzia do oceny jakości\n",
    "from sklearn import metrics\n",
    "\n",
    "# Ocena jakości klasyfikacji polega na odpowiednim porównaniu ze sobą tych dwóch wektorów\n",
    "# Podstatowym narzędziem takiej oceny jest tak zwana macierz pomyłek\n",
    "confusion_matrix = metrics.confusion_matrix(y_test, prediction)\n",
    "print(confusion_matrix)"
   ]
  },
  {
   "cell_type": "code",
   "execution_count": 16,
   "metadata": {},
   "outputs": [
    {
     "name": "stdout",
     "output_type": "stream",
     "text": [
      "0.98\n"
     ]
    }
   ],
   "source": [
    "#dokładność, czyli stosunek sumy wartości znajdujących się na przekątnej macierzy pomyłek do sumy wszystkich wartości macierzy. \n",
    "accuracy = metrics.accuracy_score(y_test, prediction)\n",
    "print (accuracy)"
   ]
  },
  {
   "cell_type": "code",
   "execution_count": 18,
   "metadata": {},
   "outputs": [
    {
     "name": "stdout",
     "output_type": "stream",
     "text": [
      "[1.0, 0.9333333333333333, 1.0, 1.0, 0.8666666666666667, 0.9333333333333333, 0.9333333333333333, 1.0, 1.0, 1.0]\n"
     ]
    }
   ],
   "source": [
    "k = 10 # 10 podziałów. \n",
    "cv = model_selection.StratifiedKFold(n_splits=k) #obiekt podziału\n",
    "\n",
    "accuracies = [] #kolejne wyliczone dokładności\n",
    "for train, test in cv.split(X, y):\n",
    "    #Odpowiednie podzbiory tablic\n",
    "    X_train, y_train = X[train], y[train]\n",
    "    X_test, y_test = X[test], y[test]\n",
    "\n",
    "    clf.fit(X_train, y_train) #ucz klasyfikator\n",
    "    probas = clf.predict_proba(X_test) #wyliczamy wektory wsparć\n",
    "    # wyliczamy i tłumaczymy predykcję i wyliczamy dokładność\n",
    "    prediction = np.argmax(probas,axis = 1)\n",
    "    prediction = clf.classes_[prediction]\n",
    "    accuracy = metrics.accuracy_score(y_test, prediction)\n",
    "    accuracies.append(accuracy)\n",
    "\n",
    "print (accuracies)"
   ]
  },
  {
   "cell_type": "code",
   "execution_count": 19,
   "metadata": {},
   "outputs": [
    {
     "name": "stdout",
     "output_type": "stream",
     "text": [
      "Średnia dokładność 0.967 (+- 0.04)\n"
     ]
    }
   ],
   "source": [
    "#Uśredniona dokładność i odchylenie standardowe.\n",
    "mean_accuracy = np.mean(accuracies)\n",
    "std_accuracy = np.std(accuracies)\n",
    "print (\"Średnia dokładność %.3f (+- %.2f)\" % (mean_accuracy, std_accuracy))"
   ]
  },
  {
   "cell_type": "markdown",
   "metadata": {},
   "source": [
    "# 1.5 Porównywanie klasyfikatorów"
   ]
  },
  {
   "cell_type": "code",
   "execution_count": 20,
   "metadata": {},
   "outputs": [
    {
     "name": "stdout",
     "output_type": "stream",
     "text": [
      "[[1.         1.        ]\n",
      " [0.93333333 0.93333333]\n",
      " [1.         1.        ]\n",
      " [0.93333333 1.        ]\n",
      " [0.86666667 0.86666667]\n",
      " [1.         0.93333333]\n",
      " [0.86666667 0.93333333]\n",
      " [1.         1.        ]\n",
      " [1.         1.        ]\n",
      " [1.         1.        ]]\n"
     ]
    }
   ],
   "source": [
    "from sklearn import neighbors\n",
    "#lista clfs zawierające dwa różne klasyfikatory k-NN\n",
    "clfs = [\n",
    "    neighbors.KNeighborsClassifier(n_neighbors = 1),\n",
    "    neighbors.KNeighborsClassifier(n_neighbors = 5)\n",
    "]\n",
    "\n",
    "#wczytamy zbiór danych, dzieląc go na przestrzeń cech i zbiór etykiet\n",
    "url = 'https://archive.ics.uci.edu/ml/machine-learning-databases/iris/iris.data'\n",
    "df = pd.read_csv(url, header=None)\n",
    "data = df.values\n",
    "X = data[:,:-1]\n",
    "y = data[:,-1]\n",
    "\n",
    "#Podział zbioru z użyciem k-foldowej walidacji krzyżowej\n",
    "k = 10\n",
    "cv = model_selection.StratifiedKFold(n_splits=k)\n",
    "\n",
    "results = []\n",
    "for train, test in cv.split(X,y):\n",
    "    X_train, y_train = X[train], y[train]\n",
    "    X_test, y_test = X[test], y[test]\n",
    "    result = []\n",
    "    for clf in clfs:\n",
    "        clf.fit(X_train, y_train)\n",
    "        probas = clf.predict_proba(X_test)\n",
    "        prediction = np.argmax(probas,axis = 1)\n",
    "        prediction = clf.classes_[prediction]\n",
    "        accuracy = metrics.accuracy_score(y_test, prediction),\n",
    "        result.append(accuracy[0])\n",
    "    results.append(result)\n",
    "results = np.array(results)\n",
    "\n",
    "print(results)"
   ]
  },
  {
   "cell_type": "code",
   "execution_count": 22,
   "metadata": {},
   "outputs": [
    {
     "name": "stdout",
     "output_type": "stream",
     "text": [
      "[0.96       0.96666667]\n"
     ]
    },
    {
     "name": "stderr",
     "output_type": "stream",
     "text": [
      "C:\\Users\\Ragnus\\Anaconda3\\lib\\site-packages\\scipy\\stats\\morestats.py:2778: UserWarning: Warning: sample size too small for normal approximation.\n",
      "  warnings.warn(\"Warning: sample size too small for normal approximation.\")\n"
     ]
    }
   ],
   "source": [
    "#testy statystyczne\n",
    "from scipy import stats\n",
    "\n",
    "#Wykonaj testy przekazując  kolumny tablicy wyników odpowiadające porównywanym klasyfikatorom\n",
    "test_t = stats.ttest_ind(results[:,0],results[:,1])\n",
    "test_w = stats.wilcoxon(results[:,0],results[:,1])\n",
    "print (np.mean(results,axis=0))"
   ]
  },
  {
   "cell_type": "code",
   "execution_count": 23,
   "metadata": {},
   "outputs": [
    {
     "name": "stdout",
     "output_type": "stream",
     "text": [
      "Ttest_indResult(statistic=-0.2873478855663521, pvalue=0.7771278487505224)\n",
      "WilcoxonResult(statistic=2.0, pvalue=0.5637028616507731)\n"
     ]
    }
   ],
   "source": [
    "#sprawdź p-wartości uzyskanych testów\n",
    "print (test_t)\n",
    "print (test_w)"
   ]
  },
  {
   "cell_type": "code",
   "execution_count": null,
   "metadata": {},
   "outputs": [],
   "source": []
  }
 ],
 "metadata": {
  "kernelspec": {
   "display_name": "Python 3",
   "language": "python",
   "name": "python3"
  },
  "language_info": {
   "codemirror_mode": {
    "name": "ipython",
    "version": 3
   },
   "file_extension": ".py",
   "mimetype": "text/x-python",
   "name": "python",
   "nbconvert_exporter": "python",
   "pygments_lexer": "ipython3",
   "version": "3.7.3"
  }
 },
 "nbformat": 4,
 "nbformat_minor": 2
}
