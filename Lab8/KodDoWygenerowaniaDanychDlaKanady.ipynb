{
 "cells": [
  {
   "cell_type": "code",
   "execution_count": 40,
   "metadata": {},
   "outputs": [],
   "source": [
    "import json\n",
    "import xml.etree.cElementTree as ET\n",
    "\n",
    "root = ET.Element(\"root\")\n",
    "counter = 0\n",
    "lm = list()\n",
    "\n",
    "with open('states.json') as f:\n",
    "    d = json.load(f)\n",
    "    for key in d:\n",
    "        counter+=1\n",
    "        print()\n",
    "        value = d[key]\n",
    "        \n",
    "        doc = ET.SubElement(root, \"state\")\n",
    "        doc.set('name',key)\n",
    "        doc.set('colour',d[key]['Color'])\n",
    "        for yos in d[key]['Coordinates']:\n",
    "            ele = ET.SubElement(doc, \"point\")\n",
    "            ele.set('lat',str(yos['lat']))\n",
    "            ele.set('lng',str(yos['lng']))\n",
    "        \n",
    "        \n",
    "tree = ET.ElementTree(root)\n",
    "tree.write(\"canada.xml\")"
   ]
  },
  {
   "cell_type": "code",
   "execution_count": 44,
   "metadata": {},
   "outputs": [],
   "source": [
    "from xml.dom import minidom\n",
    "from xml.etree import ElementTree\n",
    "\n",
    "str1 = ''\n",
    "with open('canada.txt', 'r') as myfile:\n",
    "    data = myfile.read()\n",
    "    tree1=ElementTree.XML(data)\n",
    "    str1 = minidom.parseString(ElementTree.tostring(tree1)).toprettyxml()\n",
    "\n",
    "with open(\"newCanada.txt\", \"w\") as text_file:\n",
    "    text_file.write(str1)"
   ]
  },
  {
   "cell_type": "code",
   "execution_count": null,
   "metadata": {},
   "outputs": [],
   "source": []
  }
 ],
 "metadata": {
  "kernelspec": {
   "display_name": "Python 3",
   "language": "python",
   "name": "python3"
  },
  "language_info": {
   "codemirror_mode": {
    "name": "ipython",
    "version": 3
   },
   "file_extension": ".py",
   "mimetype": "text/x-python",
   "name": "python",
   "nbconvert_exporter": "python",
   "pygments_lexer": "ipython3",
   "version": "3.7.3"
  }
 },
 "nbformat": 4,
 "nbformat_minor": 2
}
